{
  "nbformat": 4,
  "nbformat_minor": 0,
  "metadata": {
    "colab": {
      "provenance": [],
      "mount_file_id": "1vC9BwqLfh5_zbv2lRMVEfsqNKij-UD8H",
      "authorship_tag": "ABX9TyMAH6Ct7cBUtxFoLzogDbB0",
      "include_colab_link": true
    },
    "kernelspec": {
      "name": "python3",
      "display_name": "Python 3"
    },
    "language_info": {
      "name": "python"
    }
  },
  "cells": [
    {
      "cell_type": "markdown",
      "metadata": {
        "id": "view-in-github",
        "colab_type": "text"
      },
      "source": [
        "<a href=\"https://colab.research.google.com/github/aryanycce/ML-practicals/blob/main/ML_PRAC2.ipynb\" target=\"_parent\"><img src=\"https://colab.research.google.com/assets/colab-badge.svg\" alt=\"Open In Colab\"/></a>"
      ]
    },
    {
      "cell_type": "code",
      "execution_count": null,
      "metadata": {
        "colab": {
          "base_uri": "https://localhost:8080/"
        },
        "id": "GJBzV9PPaHiP",
        "outputId": "8fa7088d-3ae9-4433-8d68-83ef8a239ed2"
      },
      "outputs": [
        {
          "output_type": "stream",
          "name": "stdout",
          "text": [
            "updated_sales_data:\n",
            "   S.no    Items  prices  quantity  sales\n",
            "0     1     soap      25         3     75\n",
            "1     2    brush      20         2     40\n",
            "2     3  colgate      25         1     25\n",
            "3     4     comb      20         3     60\n",
            "4     5  hairoil      35         2     70\n",
            "Updated data has been exported to /content/updated_sales_data.csv\n"
          ]
        }
      ],
      "source": [
        "import pandas as pd\n",
        "\n",
        "# Define file paths\n",
        "input_file = \"/mnt/data/MLprac2.csv\"  # Input CSV file\n",
        "output_file = \"/content/updated_sales_data.csv\"   # Output CSV file\n",
        "\n",
        "# Step 1: Import sales data into a DataFrame\n",
        "sales_data = pd.read_csv(\"/content/MLprac2.csv\")\n",
        "\n",
        "# Display initial data\n",
        "print(\"updated_sales_data:\")\n",
        "print(sales_data.head())\n",
        "\n",
        "# Step 2: Perform basic data cleaning and modifications\n",
        "# Assume sales column exists; replace missing values with 0\n",
        "sales_data['sales'] = sales_data['sales'].fillna(0)\n",
        "\n",
        "# Add a new column for sales tax (assume 10% tax rate)\n",
        "sales_data['Sales Tax'] = sales_data['sales'] * 0.10\n",
        "\n",
        "# Add total sales column (Sales + Sales Tax)\n",
        "sales_data['Total Sales'] = sales_data['sales'] + sales_data['Sales Tax']\n",
        "\n",
        "# Step 3: Export the updated DataFrame to a new CSV file\n",
        "sales_data.to_csv(output_file, index=False)\n",
        "\n",
        "print(f\"Updated data has been exported to {output_file}\")\n"
      ]
    },
    {
      "cell_type": "code",
      "source": [
        "from google.colab import drive\n",
        "drive.mount('/content/drive')"
      ],
      "metadata": {
        "colab": {
          "base_uri": "https://localhost:8080/"
        },
        "id": "kA0N8sIMdV1s",
        "outputId": "2a23eea4-fde3-459d-d720-d39d1c88ae4f"
      },
      "execution_count": null,
      "outputs": [
        {
          "output_type": "stream",
          "name": "stdout",
          "text": [
            "Drive already mounted at /content/drive; to attempt to forcibly remount, call drive.mount(\"/content/drive\", force_remount=True).\n"
          ]
        }
      ]
    },
    {
      "cell_type": "code",
      "source": [
        "print(f\"Updated data exported to {output_file_path}\")\n",
        "new_input = '/content/updated_sales_data.csv'\n",
        "new_df = pd.read_csv(new_input)\n",
        "print(new_df.head())"
      ],
      "metadata": {
        "colab": {
          "base_uri": "https://localhost:8080/"
        },
        "id": "JhJ7uKCRjhe-",
        "outputId": "5ae329ed-9032-43be-81f9-6270d75047b3"
      },
      "execution_count": null,
      "outputs": [
        {
          "output_type": "stream",
          "name": "stdout",
          "text": [
            "Updated data exported to /content/updated_sales_data.csv\n",
            "   S.no    Items  prices  quantity  sales  Sales Tax  Total Sales\n",
            "0     1     soap      25         3     75        7.5         82.5\n",
            "1     2    brush      20         2     40        4.0         44.0\n",
            "2     3  colgate      25         1     25        2.5         27.5\n",
            "3     4     comb      20         3     60        6.0         66.0\n",
            "4     5  hairoil      35         2     70        7.0         77.0\n"
          ]
        }
      ]
    }
  ]
}